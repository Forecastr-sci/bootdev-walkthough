{
 "cells": [
  {
   "cell_type": "code",
   "execution_count": 17,
   "id": "617115ff-8af4-4e35-ac3d-b5192bf1f4ac",
   "metadata": {},
   "outputs": [
    {
     "name": "stdin",
     "output_type": "stream",
     "text": [
      "Once deleted, variables cannot be recovered. Proceed (y/[n])?  y\n"
     ]
    }
   ],
   "source": [
    "%reset"
   ]
  },
  {
   "cell_type": "markdown",
   "id": "8e893322-7a07-4cbf-98e6-9cc6e5db80c6",
   "metadata": {},
   "source": [
    "Scope refers to where a variable or function name is available to be used. For example, when we create variables in a function (such as by giving names to our parameters), that data is not available outside that function."
   ]
  },
  {
   "cell_type": "code",
   "execution_count": 18,
   "id": "097598b7-76a6-471d-8c1f-c198972f38bc",
   "metadata": {},
   "outputs": [],
   "source": [
    "def subtract(x, y):\n",
    "    return x - y\n",
    "result = subtract(5, 3)\n",
    "# print(x) # NameError: name 'x' is not defined\n"
   ]
  },
  {
   "cell_type": "code",
   "execution_count": 19,
   "id": "43e77ae0-a53a-493b-bd60-1fc263992e79",
   "metadata": {},
   "outputs": [
    {
     "ename": "NameError",
     "evalue": "name 'modifier' is not defined",
     "output_type": "error",
     "traceback": [
      "\u001b[0;31m---------------------------------------------------------------------------\u001b[0m",
      "\u001b[0;31mNameError\u001b[0m                                 Traceback (most recent call last)",
      "Cell \u001b[0;32mIn[19], line 11\u001b[0m\n\u001b[1;32m      7\u001b[0m my_level \u001b[38;5;241m=\u001b[39m \u001b[38;5;241m10\u001b[39m\n\u001b[1;32m      9\u001b[0m \u001b[38;5;66;03m## don't touch above this line\u001b[39;00m\n\u001b[0;32m---> 11\u001b[0m max_health \u001b[38;5;241m=\u001b[39m get_max_health(\u001b[43mmodifier\u001b[49m, level)\n\u001b[1;32m     13\u001b[0m \u001b[38;5;66;03m# don't touch below this line\u001b[39;00m\n\u001b[1;32m     15\u001b[0m \u001b[38;5;28mprint\u001b[39m(\u001b[38;5;124mf\u001b[39m\u001b[38;5;124m\"\u001b[39m\u001b[38;5;124mmax_health is: \u001b[39m\u001b[38;5;132;01m{\u001b[39;00mmax_health\u001b[38;5;132;01m}\u001b[39;00m\u001b[38;5;124m\"\u001b[39m)\n",
      "\u001b[0;31mNameError\u001b[0m: name 'modifier' is not defined"
     ]
    }
   ],
   "source": [
    "# Fix bug in this code\n",
    "def get_max_health(modifier, level):\n",
    "    return modifier * level\n",
    "\n",
    "\n",
    "my_modifier = 5\n",
    "my_level = 10\n",
    "\n",
    "## don't touch above this line\n",
    "\n",
    "max_health = get_max_health(modifier, level)\n",
    "\n",
    "# don't touch below this line\n",
    "\n",
    "print(f\"max_health is: {max_health}\")\n"
   ]
  },
  {
   "cell_type": "code",
   "execution_count": 20,
   "id": "dd3c78d6-cd14-40dc-8cfa-db9dce97f26a",
   "metadata": {},
   "outputs": [
    {
     "name": "stdout",
     "output_type": "stream",
     "text": [
      "max_health is: 50\n"
     ]
    }
   ],
   "source": [
    "# Fix bug in this code\n",
    "def get_max_health(modifier, level):\n",
    "    return modifier * level\n",
    "\n",
    "\n",
    "my_modifier = 5\n",
    "my_level = 10\n",
    "\n",
    "## don't touch above this line\n",
    "\n",
    "max_health = get_max_health(my_modifier, my_level)\n",
    "\n",
    "# don't touch below this line\n",
    "\n",
    "print(f\"max_health is: {max_health}\")\n"
   ]
  },
  {
   "cell_type": "markdown",
   "id": "4f9c992a-3a92-4093-8ee9-fe183ecec0e3",
   "metadata": {},
   "source": [
    "So far we've been working in the global scope. That means that when we define a variable or a function, that name is accessible in every other place in our program, even within other functions."
   ]
  },
  {
   "cell_type": "code",
   "execution_count": 21,
   "id": "c9341858-4b2b-485c-a2f6-adc20b9132a3",
   "metadata": {},
   "outputs": [
    {
     "ename": "NameError",
     "evalue": "name 'player_level' is not defined",
     "output_type": "error",
     "traceback": [
      "\u001b[0;31m---------------------------------------------------------------------------\u001b[0m",
      "\u001b[0;31mNameError\u001b[0m                                 Traceback (most recent call last)",
      "Cell \u001b[0;32mIn[21], line 14\u001b[0m\n\u001b[1;32m      9\u001b[0m     \u001b[38;5;28;01mreturn\u001b[39;00m armor_bonus \u001b[38;5;241m+\u001b[39m modifier \u001b[38;5;241m+\u001b[39m player_level\n\u001b[1;32m     12\u001b[0m \u001b[38;5;66;03m# Don't touch below this line\u001b[39;00m\n\u001b[0;32m---> 14\u001b[0m \u001b[38;5;28mprint\u001b[39m(\u001b[38;5;124mf\u001b[39m\u001b[38;5;124m\"\u001b[39m\u001b[38;5;124mCharacter has \u001b[39m\u001b[38;5;132;01m{\u001b[39;00m\u001b[43mcalculate_health\u001b[49m\u001b[43m(\u001b[49m\u001b[38;5;241;43m10\u001b[39;49m\u001b[43m)\u001b[49m\u001b[38;5;132;01m}\u001b[39;00m\u001b[38;5;124m max health.\u001b[39m\u001b[38;5;124m\"\u001b[39m)\n\u001b[1;32m     16\u001b[0m \u001b[38;5;28mprint\u001b[39m(\u001b[38;5;124mf\u001b[39m\u001b[38;5;124m\"\u001b[39m\u001b[38;5;124mCharacter has \u001b[39m\u001b[38;5;132;01m{\u001b[39;00mcalculate_primary_stats(\u001b[38;5;241m3\u001b[39m,\u001b[38;5;250m \u001b[39m\u001b[38;5;241m8\u001b[39m)\u001b[38;5;132;01m}\u001b[39;00m\u001b[38;5;124m primary stats.\u001b[39m\u001b[38;5;124m\"\u001b[39m)\n",
      "Cell \u001b[0;32mIn[21], line 5\u001b[0m, in \u001b[0;36mcalculate_health\u001b[0;34m(modifier)\u001b[0m\n\u001b[1;32m      4\u001b[0m \u001b[38;5;28;01mdef\u001b[39;00m \u001b[38;5;21mcalculate_health\u001b[39m(modifier):\n\u001b[0;32m----> 5\u001b[0m     \u001b[38;5;28;01mreturn\u001b[39;00m \u001b[43mplayer_level\u001b[49m \u001b[38;5;241m*\u001b[39m modifier\n",
      "\u001b[0;31mNameError\u001b[0m: name 'player_level' is not defined"
     ]
    }
   ],
   "source": [
    "# Declare variable player_level and set initial value to 4\n",
    "\n",
    "\n",
    "def calculate_health(modifier):\n",
    "    return player_level * modifier\n",
    "\n",
    "\n",
    "def calculate_primary_stats(armor_bonus, modifier):\n",
    "    return armor_bonus + modifier + player_level\n",
    "\n",
    "\n",
    "# Don't touch below this line\n",
    "\n",
    "print(f\"Character has {calculate_health(10)} max health.\")\n",
    "\n",
    "print(f\"Character has {calculate_primary_stats(3, 8)} primary stats.\")\n"
   ]
  },
  {
   "cell_type": "code",
   "execution_count": 22,
   "id": "86e08038-60c0-44ec-b64f-26a4fe6b686f",
   "metadata": {},
   "outputs": [
    {
     "name": "stdout",
     "output_type": "stream",
     "text": [
      "Character has 40 max health.\n",
      "Character has 15 primary stats.\n"
     ]
    }
   ],
   "source": [
    "# Declare variable player_level and set initial value to 4\n",
    "player_level = 4\n",
    "\n",
    "def calculate_health(modifier):\n",
    "    return player_level * modifier\n",
    "\n",
    "\n",
    "def calculate_primary_stats(armor_bonus, modifier):\n",
    "    return armor_bonus + modifier + player_level\n",
    "\n",
    "\n",
    "# Don't touch below this line\n",
    "\n",
    "print(f\"Character has {calculate_health(10)} max health.\")\n",
    "\n",
    "print(f\"Character has {calculate_primary_stats(3, 8)} primary stats.\")\n"
   ]
  },
  {
   "cell_type": "markdown",
   "id": "4270634e-0439-4702-8cd2-cb368124751d",
   "metadata": {},
   "source": [
    "Coming up: Testing_and_Debugging"
   ]
  }
 ],
 "metadata": {
  "kernelspec": {
   "display_name": "Python 3 (ipykernel)",
   "language": "python",
   "name": "python3"
  },
  "language_info": {
   "codemirror_mode": {
    "name": "ipython",
    "version": 3
   },
   "file_extension": ".py",
   "mimetype": "text/x-python",
   "name": "python",
   "nbconvert_exporter": "python",
   "pygments_lexer": "ipython3",
   "version": "3.11.9"
  }
 },
 "nbformat": 4,
 "nbformat_minor": 5
}
